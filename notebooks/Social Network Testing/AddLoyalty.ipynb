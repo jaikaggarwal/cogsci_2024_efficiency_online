{
 "cells": [
  {
   "cell_type": "code",
   "execution_count": 1,
   "metadata": {},
   "outputs": [],
   "source": [
    "#IMPORTS\n",
    "import networkx as nx\n",
    "import os\n",
    "import json\n",
    "import sys"
   ]
  },
  {
   "cell_type": "code",
   "execution_count": 10,
   "metadata": {},
   "outputs": [],
   "source": [
    "# DIRECTORIES\n",
    "DATA = '/ais/hal9000/datasets/reddit/stance_pipeline/luo_data/network_analysis/graphs/'\n",
    "INTER = '/ais/hal9000/datasets/reddit/stance_pipeline/luo_data/network_analysis/loyalty/'\n",
    "OUT = '/ais/hal9000/datasets/reddit/stance_pipeline/luo_data/network_analysis/graphs/'"
   ]
  },
  {
   "cell_type": "code",
   "execution_count": 13,
   "metadata": {},
   "outputs": [],
   "source": [
    "def modify_loyalty_attribute(g):\n",
    "\n",
    "    # Setting path to file to read in\n",
    "    file_path = os.path.join(INTER, \"user_loyalty_dictionary\")\n",
    "    print(f\"Reading {file_path} ...\")\n",
    "\n",
    "    # Open the data\n",
    "    LOYALTY = {}\n",
    "    with open(file_path, 'r') as json_file:\n",
    "        LOYALTY = json.load(json_file)\n",
    "\n",
    "    # Per author\n",
    "    for author in LOYALTY:\n",
    "        \n",
    "        # Skip if author is not loyal\n",
    "        if LOYALTY[author] == None:\n",
    "            continue\n",
    "        \n",
    "        # Increment node attribute if author is loyal\n",
    "        subreddit = LOYALTY[author]\n",
    "\n",
    "        # First check if subreddit is in given graph\n",
    "        if subreddit not in g.nodes():\n",
    "            continue\n",
    "\n",
    "        # Subreddit in graph, continue\n",
    "        if 'loyal_users' in g.nodes[subreddit]:\n",
    "            g.nodes[subreddit]['loyal_users'] += 1\n"
   ]
  },
  {
   "cell_type": "code",
   "execution_count": 14,
   "metadata": {},
   "outputs": [
    {
     "name": "stdout",
     "output_type": "stream",
     "text": [
      "Reading /ais/hal9000/datasets/reddit/stance_pipeline/luo_data/network_analysis/loyalty/user_loyalty_dictionary ...\n"
     ]
    }
   ],
   "source": [
    "# Read, Modify, Save the graph given TOLERANCE\n",
    "TOLERANCE = 100\n",
    "\n",
    "# READ\n",
    "g = nx.read_graphml(DATA + f\"2019_NX_T{TOLERANCE}.graphml\")\n",
    "\n",
    "# MODIFY\n",
    "modify_loyalty_attribute(g)\n",
    "\n",
    "# SAVE\n",
    "nx.write_graphml_lxml(g, OUT + f\"2019_NX_T{TOLERANCE}.graphml\")"
   ]
  },
  {
   "cell_type": "code",
   "execution_count": null,
   "metadata": {},
   "outputs": [],
   "source": [
    "# NEXT NOTEBOOK ==> Measures"
   ]
  }
 ],
 "metadata": {
  "kernelspec": {
   "display_name": "efficiency",
   "language": "python",
   "name": "python3"
  },
  "language_info": {
   "codemirror_mode": {
    "name": "ipython",
    "version": 3
   },
   "file_extension": ".py",
   "mimetype": "text/x-python",
   "name": "python",
   "nbconvert_exporter": "python",
   "pygments_lexer": "ipython3",
   "version": "3.6.9"
  }
 },
 "nbformat": 4,
 "nbformat_minor": 2
}
