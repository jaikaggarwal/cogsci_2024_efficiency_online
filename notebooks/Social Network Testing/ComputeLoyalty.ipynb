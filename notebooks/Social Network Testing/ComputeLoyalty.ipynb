{
 "cells": [
  {
   "cell_type": "code",
   "execution_count": 1,
   "metadata": {},
   "outputs": [],
   "source": [
    "#IMPORTS\n",
    "import networkx as nx\n",
    "import os\n",
    "import json\n",
    "import sys"
   ]
  },
  {
   "cell_type": "code",
   "execution_count": 2,
   "metadata": {},
   "outputs": [],
   "source": [
    "# DIRECTORIES\n",
    "DATA = \"/ais/hal9000/datasets/reddit/stance_pipeline/luo_data/network_analysis/dictionaries/\"\n",
    "OUT = '/ais/hal9000/datasets/reddit/stance_pipeline/luo_data/network_analysis/loyalty/'"
   ]
  },
  {
   "cell_type": "code",
   "execution_count": 3,
   "metadata": {},
   "outputs": [],
   "source": [
    "# GENERATING CONDENSED AUTHOR-SUBREDDIT DICTIONARY (COMBINE ALL 12 MONTHS INTO ONE DICTIONARY)\n",
    "CONDENSED = {}\n",
    "\n",
    "# READ IN MONTH BY MONTH\n",
    "def condense(filename):\n",
    "    # Setting path to file to read in\n",
    "    file_path = os.path.join(DATA, filename)\n",
    "\n",
    "    print(f\"Reading {file_path} ...\")\n",
    "\n",
    "    # Open the data\n",
    "    DICT = {}\n",
    "    with open(file_path, 'r') as json_file:\n",
    "        DICT = json.load(json_file)\n",
    "    \n",
    "    # Iterate over all authors\n",
    "    for author in list(DICT.keys()):\n",
    "\n",
    "        # Key check\n",
    "        if author not in CONDENSED:\n",
    "            CONDENSED[author] = {}\n",
    "\n",
    "        # Add up subreddit interactions\n",
    "        for subreddit in DICT[author]:\n",
    "\n",
    "            # Key check\n",
    "            if subreddit not in CONDENSED[author]:\n",
    "                CONDENSED[author][subreddit] = 0\n",
    "            \n",
    "            # Incrementing    \n",
    "            CONDENSED[author][subreddit] += DICT[author][subreddit]"
   ]
  },
  {
   "cell_type": "code",
   "execution_count": 4,
   "metadata": {},
   "outputs": [],
   "source": [
    "LOYALTY = {}\n",
    "\n",
    "# Generates LOYALTY, where keys are authors and values are the subreddits they are loyal to or None\n",
    "def compute_user_loyalty():\n",
    "\n",
    "    # Per author\n",
    "    for author in CONDENSED:\n",
    "\n",
    "        # Find subreddit with maximum posts\n",
    "        bsf_value = 0\n",
    "        bsf_subreddit = ''\n",
    "        total = 0\n",
    "        for subreddit in CONDENSED[author]:\n",
    "            val = CONDENSED[author][subreddit]\n",
    "\n",
    "            if val > bsf_value:\n",
    "                bsf_value = val\n",
    "                bsf_subreddit = subreddit\n",
    "\n",
    "            total += val\n",
    "\n",
    "        # Check if author is loyal to subreddit bsf_subreddit\n",
    "        if (bsf_value/total) >= 0.50:\n",
    "            LOYALTY[author] = bsf_subreddit\n",
    "        else:\n",
    "            LOYALTY[author] = None\n"
   ]
  },
  {
   "cell_type": "code",
   "execution_count": 5,
   "metadata": {},
   "outputs": [
    {
     "name": "stdout",
     "output_type": "stream",
     "text": [
      "Reading /ais/hal9000/datasets/reddit/stance_pipeline/luo_data/network_analysis/dictionaries/RC_2019-01_top.json ...\n",
      "Reading /ais/hal9000/datasets/reddit/stance_pipeline/luo_data/network_analysis/dictionaries/RC_2019-11_top.json ...\n",
      "Reading /ais/hal9000/datasets/reddit/stance_pipeline/luo_data/network_analysis/dictionaries/RC_2019-06_top.json ...\n",
      "Reading /ais/hal9000/datasets/reddit/stance_pipeline/luo_data/network_analysis/dictionaries/RC_2019-09_top.json ...\n",
      "Reading /ais/hal9000/datasets/reddit/stance_pipeline/luo_data/network_analysis/dictionaries/RC_2019-10_top.json ...\n",
      "Reading /ais/hal9000/datasets/reddit/stance_pipeline/luo_data/network_analysis/dictionaries/RC_2019-08_top.json ...\n",
      "Reading /ais/hal9000/datasets/reddit/stance_pipeline/luo_data/network_analysis/dictionaries/RC_2019-07_top.json ...\n",
      "Reading /ais/hal9000/datasets/reddit/stance_pipeline/luo_data/network_analysis/dictionaries/RC_2019-04_top.json ...\n",
      "Reading /ais/hal9000/datasets/reddit/stance_pipeline/luo_data/network_analysis/dictionaries/RC_2019-03_top.json ...\n",
      "Reading /ais/hal9000/datasets/reddit/stance_pipeline/luo_data/network_analysis/dictionaries/RC_2019-05_top.json ...\n",
      "Reading /ais/hal9000/datasets/reddit/stance_pipeline/luo_data/network_analysis/dictionaries/RC_2019-02_top.json ...\n",
      "Reading /ais/hal9000/datasets/reddit/stance_pipeline/luo_data/network_analysis/dictionaries/RC_2019-12_top.json ...\n"
     ]
    }
   ],
   "source": [
    "# Generate the CONDENSED dictionary\n",
    "# Considering only TOP posts\n",
    "for filename in os.listdir(DATA):\n",
    "    if \"_top\" in filename:\n",
    "        condense(filename)"
   ]
  },
  {
   "cell_type": "code",
   "execution_count": 6,
   "metadata": {},
   "outputs": [],
   "source": [
    "# Compute Loyalty\n",
    "compute_user_loyalty()"
   ]
  },
  {
   "cell_type": "code",
   "execution_count": 7,
   "metadata": {},
   "outputs": [],
   "source": [
    "# Save the loyalty values\n",
    "# Dump to file\n",
    "path = os.path.join('/ais/hal9000/datasets/reddit/stance_pipeline/luo_data/network_analysis/loyalty/', \"user_loyalty_dictionary\")\n",
    "with open(path,\"w\") as f:\n",
    "    json.dump(LOYALTY,f)"
   ]
  },
  {
   "cell_type": "code",
   "execution_count": null,
   "metadata": {},
   "outputs": [],
   "source": [
    "# NEXT NOTEBOOK ==> AddLoyalty"
   ]
  }
 ],
 "metadata": {
  "kernelspec": {
   "display_name": "efficiency",
   "language": "python",
   "name": "python3"
  },
  "language_info": {
   "codemirror_mode": {
    "name": "ipython",
    "version": 3
   },
   "file_extension": ".py",
   "mimetype": "text/x-python",
   "name": "python",
   "nbconvert_exporter": "python",
   "pygments_lexer": "ipython3",
   "version": "3.6.9"
  }
 },
 "nbformat": 4,
 "nbformat_minor": 2
}
