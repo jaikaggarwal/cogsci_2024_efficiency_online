{
 "cells": [
  {
   "cell_type": "code",
   "execution_count": null,
   "metadata": {},
   "outputs": [],
   "source": [
    "# IMPORTS\n",
    "import os\n",
    "import json\n",
    "from tqdm import tqdm\n",
    "from multiprocessing import Pool\n",
    "import sys"
   ]
  },
  {
   "cell_type": "code",
   "execution_count": null,
   "metadata": {},
   "outputs": [],
   "source": [
    "# DIRECTORIES\n",
    "DATA = \"/ais/hal9000/datasets/reddit/stance_pipeline/luo_data/raw_data\"\n",
    "OUT = \"/ais/hal9000/datasets/reddit/stance_pipeline/luo_data/network_analysis/dictionaries/\""
   ]
  },
  {
   "cell_type": "code",
   "execution_count": null,
   "metadata": {},
   "outputs": [],
   "source": [
    "# Input must be in JSON readable format, containing fields: author, subreddit, parent_id\n",
    "\n",
    "# Generate Author:Subreddit dictionary\n",
    "def generate_mapping(filename):\n",
    "    # DATA STORAGE\n",
    "    DICT = {}\n",
    "\n",
    "    # Setting input path\n",
    "    path = os.path.join(DATA, filename)\n",
    "    file = open(path, \"r\")\n",
    "\n",
    "    print(\"Iterating over file : \"+filename+\"\\n\")\n",
    "\n",
    "    # Iterating over each line in the file\n",
    "    for line in file:\n",
    "        \n",
    "        # Load in one JSON object\n",
    "        obj = json.loads(line)\n",
    "        \n",
    "        # Important values\n",
    "        author = obj['author']\n",
    "        subreddit = obj['subreddit']\n",
    "\n",
    "        # Initialization\n",
    "        if author not in DICT:\n",
    "            DICT[author] = {}\n",
    "        \n",
    "        if subreddit not in DICT[author]:\n",
    "            DICT[author][subreddit] = 0\n",
    "        \n",
    "        # Incrementing occurence\n",
    "        DICT[author][subreddit] += 1\n",
    "\n",
    "    # Dump to file\n",
    "    path = os.path.join(OUT, filename)\n",
    "    with open(path,\"w\") as f:\n",
    "        json.dump(DICT,f)\n",
    "    \n",
    "\n",
    "        \n",
    "    "
   ]
  },
  {
   "cell_type": "code",
   "execution_count": null,
   "metadata": {},
   "outputs": [],
   "source": [
    "# Top level version\n",
    "def generate_mapping_top(filename):\n",
    "    # DATA STORAGE\n",
    "    DICT = {}\n",
    "\n",
    "    # Setting input path\n",
    "    path = os.path.join(DATA, filename)\n",
    "    file = open(path, \"r\")\n",
    "\n",
    "    print(\"Iterating over file : \"+filename+\"\\n\")\n",
    "\n",
    "    # Iterating over each line in the file\n",
    "    for line in file:\n",
    "        \n",
    "        # Load in one JSON object\n",
    "        obj = json.loads(line)\n",
    "        \n",
    "        # Is top level check\n",
    "        level = obj['parent_id']\n",
    "        if level[:2] != \"t3\":\n",
    "            continue\n",
    "\n",
    "        # Important values\n",
    "        author = obj['author']\n",
    "        subreddit = obj['subreddit']\n",
    "\n",
    "        # Initialization\n",
    "        if author not in DICT:\n",
    "            DICT[author] = {}\n",
    "        \n",
    "        if subreddit not in DICT[author]:\n",
    "            DICT[author][subreddit] = 0\n",
    "        \n",
    "        # Incrementing occurence\n",
    "        DICT[author][subreddit] += 1\n",
    "\n",
    "    # Dump to file\n",
    "    path = os.path.join(OUT, filename[:-5]+\"_top.json\")\n",
    "    with open(path,\"w\") as f:\n",
    "        json.dump(DICT,f)"
   ]
  },
  {
   "cell_type": "code",
   "execution_count": null,
   "metadata": {},
   "outputs": [],
   "source": [
    "# GENERATE NON TOP LEVEL\n",
    "targets = []\n",
    "for month in [\"01\", \"02\", \"03\", \"04\", \"05\", \"06\", \"07\", \"08\", \"09\", \"10\", \"11\", \"12\"]:\n",
    "        targets.append(f\"RC_2019-{month}.json\")\n",
    "\n",
    "# 2 Minutes / 2 Files w 2 Cores\n",
    "# ~6-8GB -> ~100MB\n",
    "with Pool(2) as p:\n",
    "        r = tqdm(list(p.imap(generate_mapping, targets)), total=12)"
   ]
  },
  {
   "cell_type": "code",
   "execution_count": null,
   "metadata": {},
   "outputs": [],
   "source": [
    "# GENERATE TOP LEVEL\n",
    "targets = []\n",
    "for month in [\"01\", \"02\", \"03\", \"04\", \"05\", \"06\", \"07\", \"08\", \"09\", \"10\", \"11\", \"12\"]:\n",
    "        targets.append(f\"RC_2019-{month}.json\")\n",
    "\n",
    "# 2 Minutes / 2 Files w 2 Cores\n",
    "# ~6-8GB -> ~100MB\n",
    "with Pool(2) as p:\n",
    "        r = tqdm(list(p.imap(generate_mapping_top, targets)), total=12)"
   ]
  },
  {
   "cell_type": "code",
   "execution_count": null,
   "metadata": {},
   "outputs": [],
   "source": [
    "# NEXT NOTEBOOK ==> GraphGenNX"
   ]
  }
 ],
 "metadata": {
  "kernelspec": {
   "display_name": "efficiency",
   "language": "python",
   "name": "python3"
  },
  "language_info": {
   "codemirror_mode": {
    "name": "ipython",
    "version": 3
   },
   "file_extension": ".py",
   "mimetype": "text/x-python",
   "name": "python",
   "nbconvert_exporter": "python",
   "pygments_lexer": "ipython3",
   "version": "3.7.9"
  },
  "orig_nbformat": 4
 },
 "nbformat": 4,
 "nbformat_minor": 2
}
