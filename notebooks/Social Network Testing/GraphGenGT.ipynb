{
 "cells": [
  {
   "cell_type": "code",
   "execution_count": 1,
   "metadata": {},
   "outputs": [],
   "source": [
    "# IMPORTS\n",
    "import os\n",
    "import json\n",
    "import sys\n",
    "import graph_tool.all as gt"
   ]
  },
  {
   "cell_type": "code",
   "execution_count": 2,
   "metadata": {},
   "outputs": [],
   "source": [
    "# DIRECTORIES\n",
    "DATA = \"/ais/hal9000/datasets/reddit/stance_pipeline/luo_data/network_analysis\"\n",
    "OUT = '/h/118/prabuddha/graphs/'\n"
   ]
  },
  {
   "cell_type": "code",
   "execution_count": 3,
   "metadata": {},
   "outputs": [],
   "source": [
    "# GENERATING CONDENSED AUTHOR-SUBREDDIT DICTIONARY\n",
    "CONDENSED = {}\n",
    "\n",
    "# READ IN MONTH BY MONTH\n",
    "def condense(filename):\n",
    "    # Setting path to file to read in\n",
    "    file_path = os.path.join(DATA, filename)\n",
    "\n",
    "    # Open the data\n",
    "    DICT = {}\n",
    "    with open(file_path, 'r') as json_file:\n",
    "        DICT = json.load(json_file)\n",
    "    \n",
    "    # Iterate over all authors\n",
    "    for author in list(DICT.keys()):\n",
    "\n",
    "        # Key check\n",
    "        if author not in CONDENSED:\n",
    "            CONDENSED[author] = {}\n",
    "\n",
    "        # Add up subreddit interactions\n",
    "        for subreddit in DICT[author]:\n",
    "\n",
    "            # Key check\n",
    "            if subreddit not in CONDENSED[author]:\n",
    "                CONDENSED[author][subreddit] = 0\n",
    "            \n",
    "            # Incrementing    \n",
    "            CONDENSED[author][subreddit] += DICT[author][subreddit]\n"
   ]
  },
  {
   "cell_type": "code",
   "execution_count": 4,
   "metadata": {},
   "outputs": [
    {
     "name": "stdout",
     "output_type": "stream",
     "text": [
      "246065920\n"
     ]
    }
   ],
   "source": [
    "# Specify the file path where your JSON data is stored\n",
    "# check for top / not top depending on if top level data is wanted\n",
    "for filename in os.listdir(DATA):\n",
    "    # Generate CONDENSED dictionary\n",
    "    if \"_top\" in filename:\n",
    "        continue\n",
    "    condense(filename)\n",
    "    \n",
    "# Print size of data structure\n",
    "# 2 minutes to load all years, 3 GB in memory space\n",
    "print(sys.getsizeof(CONDENSED))"
   ]
  },
  {
   "cell_type": "code",
   "execution_count": 17,
   "metadata": {},
   "outputs": [],
   "source": [
    "# TOLERANCE: The number of connections required for an edge to be made\n",
    "def generate_graph(TOLERANCE):\n",
    "    # Create an empty graph\n",
    "    g = gt.Graph(directed=False)\n",
    "\n",
    "    # Labels for each vertex\n",
    "    labels = g.new_vertex_property(\"string\")\n",
    "\n",
    "    # Edge weights\n",
    "    edge_weights = g.new_edge_property(\"double\")\n",
    "\n",
    "    # Vertex set\n",
    "    V = {}\n",
    "\n",
    "    # Adding edges and nodes\n",
    "    for author in CONDENSED:\n",
    "        keep = []\n",
    "\n",
    "        # Keeping subreddits where posts >= TOLERANCE\n",
    "        for subreddit in CONDENSED[author]:\n",
    "            if CONDENSED[author][subreddit] >= TOLERANCE:\n",
    "                keep.append(subreddit)\n",
    "\n",
    "        # Discard if less than two subreddits are above tolerance\n",
    "        if len(keep) < 2:\n",
    "            continue\n",
    "\n",
    "        # Add vertices\n",
    "        for subreddit in keep:\n",
    "            # Add vertices\n",
    "            if subreddit not in V:\n",
    "                V[subreddit] = g.add_vertex()\n",
    "                labels[V[subreddit]] = subreddit\n",
    "        \n",
    "        # Add edges\n",
    "        used = []\n",
    "        for subreddit1 in keep:\n",
    "            for subreddit2 in keep:\n",
    "                # No self cycles, no double adding\n",
    "                if subreddit1 == subreddit2 or subreddit2 in used:\n",
    "                    continue\n",
    "                \n",
    "                # Increment edge weight if edge already exists\n",
    "                edge = g.edge(V[subreddit1], V[subreddit2])\n",
    "                if edge in g.edges():\n",
    "                    edge_weights[edge] += 1\n",
    "                    continue\n",
    "                \n",
    "                # New edge\n",
    "                edge = g.add_edge(V[subreddit1], V[subreddit2])  \n",
    "                edge_weights[edge] = 1\n",
    "            used.append(subreddit1)\n",
    "\n",
    "\n",
    "            \n",
    "    return g, labels, edge_weights, V"
   ]
  },
  {
   "cell_type": "code",
   "execution_count": 18,
   "metadata": {},
   "outputs": [
    {
     "ename": "KeyboardInterrupt",
     "evalue": "",
     "output_type": "error",
     "traceback": [
      "\u001b[0;31m---------------------------------------------------------------------------\u001b[0m",
      "\u001b[0;31mKeyboardInterrupt\u001b[0m                         Traceback (most recent call last)",
      "\u001b[1;32m/u/prabuddha/efficiency/notebooks/GraphGenGT.ipynb Cell 6\u001b[0m line \u001b[0;36m3\n\u001b[1;32m      <a href='vscode-notebook-cell://ssh-remote%2Bspock1/u/prabuddha/efficiency/notebooks/GraphGenGT.ipynb#W5sdnNjb2RlLXJlbW90ZQ%3D%3D?line=0'>1</a>\u001b[0m \u001b[39m# Generate graphs\u001b[39;00m\n\u001b[1;32m      <a href='vscode-notebook-cell://ssh-remote%2Bspock1/u/prabuddha/efficiency/notebooks/GraphGenGT.ipynb#W5sdnNjb2RlLXJlbW90ZQ%3D%3D?line=1'>2</a>\u001b[0m TOLERANCE \u001b[39m=\u001b[39m \u001b[39m100\u001b[39m\n\u001b[0;32m----> <a href='vscode-notebook-cell://ssh-remote%2Bspock1/u/prabuddha/efficiency/notebooks/GraphGenGT.ipynb#W5sdnNjb2RlLXJlbW90ZQ%3D%3D?line=2'>3</a>\u001b[0m g, labels, edge_weights, V \u001b[39m=\u001b[39m generate_graph(TOLERANCE)\n",
      "\u001b[1;32m/u/prabuddha/efficiency/notebooks/GraphGenGT.ipynb Cell 6\u001b[0m line \u001b[0;36m5\n\u001b[1;32m     <a href='vscode-notebook-cell://ssh-remote%2Bspock1/u/prabuddha/efficiency/notebooks/GraphGenGT.ipynb#W5sdnNjb2RlLXJlbW90ZQ%3D%3D?line=46'>47</a>\u001b[0m         \u001b[39mcontinue\u001b[39;00m\n\u001b[1;32m     <a href='vscode-notebook-cell://ssh-remote%2Bspock1/u/prabuddha/efficiency/notebooks/GraphGenGT.ipynb#W5sdnNjb2RlLXJlbW90ZQ%3D%3D?line=48'>49</a>\u001b[0m     \u001b[39m# New edge\u001b[39;00m\n\u001b[0;32m---> <a href='vscode-notebook-cell://ssh-remote%2Bspock1/u/prabuddha/efficiency/notebooks/GraphGenGT.ipynb#W5sdnNjb2RlLXJlbW90ZQ%3D%3D?line=49'>50</a>\u001b[0m     edge \u001b[39m=\u001b[39m g\u001b[39m.\u001b[39;49madd_edge(V[subreddit1], V[subreddit2])  \n\u001b[1;32m     <a href='vscode-notebook-cell://ssh-remote%2Bspock1/u/prabuddha/efficiency/notebooks/GraphGenGT.ipynb#W5sdnNjb2RlLXJlbW90ZQ%3D%3D?line=50'>51</a>\u001b[0m     edge_weights[edge] \u001b[39m=\u001b[39m \u001b[39m1\u001b[39m\n\u001b[1;32m     <a href='vscode-notebook-cell://ssh-remote%2Bspock1/u/prabuddha/efficiency/notebooks/GraphGenGT.ipynb#W5sdnNjb2RlLXJlbW90ZQ%3D%3D?line=51'>52</a>\u001b[0m used\u001b[39m.\u001b[39mappend(subreddit1)\n",
      "File \u001b[0;32m~/miniconda3/envs/gt/lib/python3.11/site-packages/graph_tool/__init__.py:2533\u001b[0m, in \u001b[0;36mGraph.add_edge\u001b[0;34m(self, source, target, add_missing)\u001b[0m\n\u001b[1;32m   2530\u001b[0m \u001b[39m    \u001b[39m\u001b[39m\"\"\"Remove all in and out-edges from the given vertex.\"\"\"\u001b[39;00m\n\u001b[1;32m   2531\u001b[0m     libcore\u001b[39m.\u001b[39mclear_vertex(\u001b[39mself\u001b[39m\u001b[39m.\u001b[39m__graph, \u001b[39mint\u001b[39m(vertex))\n\u001b[0;32m-> 2533\u001b[0m \u001b[39mdef\u001b[39;00m \u001b[39madd_edge\u001b[39m(\u001b[39mself\u001b[39m, source, target, add_missing\u001b[39m=\u001b[39m\u001b[39mTrue\u001b[39;00m):\n\u001b[1;32m   2534\u001b[0m \u001b[39m    \u001b[39m\u001b[39m\"\"\"Add a new edge from ``source`` to ``target`` to the graph, and return\u001b[39;00m\n\u001b[1;32m   2535\u001b[0m \u001b[39m    it. This operation is :math:`O(1)`.\u001b[39;00m\n\u001b[1;32m   2536\u001b[0m \n\u001b[1;32m   2537\u001b[0m \u001b[39m    If ``add_missing == True``, the source and target vertices are included\u001b[39;00m\n\u001b[1;32m   2538\u001b[0m \u001b[39m    in the graph if they don't yet exist.\u001b[39;00m\n\u001b[1;32m   2539\u001b[0m \u001b[39m    \"\"\"\u001b[39;00m\n\u001b[1;32m   2540\u001b[0m     e \u001b[39m=\u001b[39m libcore\u001b[39m.\u001b[39madd_edge(\u001b[39mself\u001b[39m\u001b[39m.\u001b[39m__graph,\n\u001b[1;32m   2541\u001b[0m                          \u001b[39mself\u001b[39m\u001b[39m.\u001b[39mvertex(\u001b[39mint\u001b[39m(source), add_missing\u001b[39m=\u001b[39madd_missing),\n\u001b[1;32m   2542\u001b[0m                          \u001b[39mself\u001b[39m\u001b[39m.\u001b[39mvertex(\u001b[39mint\u001b[39m(target), add_missing\u001b[39m=\u001b[39madd_missing))\n",
      "\u001b[0;31mKeyboardInterrupt\u001b[0m: "
     ]
    }
   ],
   "source": [
    "# Generate graphs\n",
    "TOLERANCE = 100\n",
    "g, labels, edge_weights, V = generate_graph(TOLERANCE)"
   ]
  },
  {
   "cell_type": "code",
   "execution_count": null,
   "metadata": {},
   "outputs": [],
   "source": [
    "# Save graph\n",
    "g.save(OUT + f\"2019_GT_T{TOLERANCE}.graphml\")"
   ]
  },
  {
   "cell_type": "code",
   "execution_count": 16,
   "metadata": {},
   "outputs": [
    {
     "data": {
      "text/plain": [
       "<VertexPropertyMap object with value type 'vector<double>', for Graph 0x7fa06f94c550, at 0x7f9fae935290>"
      ]
     },
     "execution_count": 16,
     "metadata": {},
     "output_type": "execute_result"
    }
   ],
   "source": [
    "# VISUALIZATION\n",
    "\n",
    "# Graphical output\n",
    "pos = gt.sfdp_layout(g)\n",
    "deg = g.degree_property_map(\"out\")\n",
    "deg.a = 10 * (deg.a * 2 + 0.4)\n",
    "b = deg.copy()\n",
    "b.a = b.a * 255\n",
    "gt.graph_draw(g, pos=pos, vertex_text = labels, vertex_size=deg, vertex_text_position=\"centered\", vertex_fill_color=b, edge_pen_width=2, output_size=(5000, 5000), output=\"/u/prabuddha/efficiency/graphs/graph5.pdf\")\n"
   ]
  }
 ],
 "metadata": {
  "kernelspec": {
   "display_name": "gt",
   "language": "python",
   "name": "python3"
  },
  "language_info": {
   "codemirror_mode": {
    "name": "ipython",
    "version": 3
   },
   "file_extension": ".py",
   "mimetype": "text/x-python",
   "name": "python",
   "nbconvert_exporter": "python",
   "pygments_lexer": "ipython3",
   "version": "3.11.6"
  }
 },
 "nbformat": 4,
 "nbformat_minor": 2
}
