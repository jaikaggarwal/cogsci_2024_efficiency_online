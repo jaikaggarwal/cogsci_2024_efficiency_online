{
 "cells": [
  {
   "cell_type": "code",
   "execution_count": 9,
   "metadata": {},
   "outputs": [],
   "source": [
    "# IMPORTS\n",
    "import pandas as pd\n",
    "import networkx as nx\n",
    "import csv"
   ]
  },
  {
   "cell_type": "code",
   "execution_count": 10,
   "metadata": {},
   "outputs": [],
   "source": [
    "# DIRECTORIES\n",
    "DATA = '/ais/hal9000/datasets/reddit/stance_pipeline/luo_data/network_analysis/graphs/'\n",
    "OUT = '/ais/hal9000/datasets/reddit/stance_pipeline/luo_data/network_analysis/statistics/'"
   ]
  },
  {
   "cell_type": "code",
   "execution_count": 11,
   "metadata": {},
   "outputs": [],
   "source": [
    "# READ IN DATA\n",
    "TOLERANCE = 100\n",
    "g = nx.read_graphml(DATA+f\"2019_NX_T{TOLERANCE}.graphml\")"
   ]
  },
  {
   "cell_type": "code",
   "execution_count": 12,
   "metadata": {},
   "outputs": [],
   "source": [
    "# OPEN CSV\n",
    "csvfile = open(OUT+f\"2019_NX_T{TOLERANCE}.csv\", 'w', newline='')\n",
    "\n",
    "# WRITE HEADERS\n",
    "fieldnames = ['Subreddit', 'Connectivity', 'Degree', 'Eigen', 'Closeness', 'Betweenness', 'Loyalty', 'Size']\n",
    "writer = csv.DictWriter(csvfile, fieldnames=fieldnames)\n",
    "writer.writeheader()"
   ]
  },
  {
   "cell_type": "code",
   "execution_count": 13,
   "metadata": {},
   "outputs": [],
   "source": [
    "# Precomputation (40s)\n",
    "degree = nx.degree_centrality(g)\n",
    "#eigen = nx.eigenvector_centrality(G) <=== Did not work on my install of networkx (Python 3.6.9), hypot() function is different from requried\n",
    "closeness = nx.closeness_centrality(g)\n",
    "betweenness = nx.betweenness_centrality(g, normalized=False)"
   ]
  },
  {
   "cell_type": "code",
   "execution_count": 14,
   "metadata": {},
   "outputs": [],
   "source": [
    "# COMPUTE AND WRITE STATS\n",
    "for node, attributes in g.nodes(data=True):\n",
    "\n",
    "  # NAME\n",
    "  name = node\n",
    "\n",
    "  # CONNECTIVITY, LOYALTY, SIZE\n",
    "  connectivity = g.degree(node)\n",
    "  loyalty = attributes['loyal_users'] / attributes['unique_users']\n",
    "  size = attributes ['unique_users']\n",
    "\n",
    "  # WRITE LINE TO CSV\n",
    "  writer.writerow({'Subreddit': name, 'Connectivity': connectivity, 'Degree': degree[name],\n",
    "                    'Eigen': 0, 'Closeness': closeness[name], 'Betweenness': betweenness[name],\n",
    "                      'Loyalty': loyalty, 'Size': size})\n",
    "\n",
    "# CLOSE CSV\n",
    "csvfile.close()"
   ]
  },
  {
   "cell_type": "code",
   "execution_count": null,
   "metadata": {},
   "outputs": [],
   "source": [
    "# NEXT NOTEBOOK ==> Regression"
   ]
  }
 ],
 "metadata": {
  "kernelspec": {
   "display_name": "gt",
   "language": "python",
   "name": "python3"
  },
  "language_info": {
   "codemirror_mode": {
    "name": "ipython",
    "version": 3
   },
   "file_extension": ".py",
   "mimetype": "text/x-python",
   "name": "python",
   "nbconvert_exporter": "python",
   "pygments_lexer": "ipython3",
   "version": "3.6.9"
  }
 },
 "nbformat": 4,
 "nbformat_minor": 2
}
