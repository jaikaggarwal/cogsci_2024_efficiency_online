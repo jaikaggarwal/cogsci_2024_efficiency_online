{
 "cells": [
  {
   "cell_type": "code",
   "execution_count": 1,
   "metadata": {},
   "outputs": [],
   "source": [
    "from src.utils.core_utils import *\n",
    "from src.utils.data_utils import load_intensifiers, extract_relevant_markers"
   ]
  },
  {
   "cell_type": "markdown",
   "metadata": {},
   "source": [
    "The purpose of this notebook is to visualize the distribution of comments per community that have one of the Luo intensifiers.\n",
    "\n",
    "It can only be run after luo_intensifiers.py."
   ]
  },
  {
   "cell_type": "code",
   "execution_count": 2,
   "metadata": {},
   "outputs": [],
   "source": [
    "def load_subreddit_marker_data(year):\n",
    "    subreddit_to_marker_counter = Serialization.load_obj(f\"all_luo_markers_{year}\")\n",
    "    df = pd.DataFrame(subreddit_to_marker_counter).fillna(0).T\n",
    "    print(df.sum().sort_values().sum())\n",
    "    return df\n",
    "\n",
    "def compute_cutoffs(df, cutoff):\n",
    "    totals = df.sum(axis=1)\n",
    "    return totals[totals >= cutoff]\n",
    "\n",
    "def graph_coms_with_markers(df, year):\n",
    "    cutoffs = [1, 5, 10, 50, 100, 500, 1000, 5000, 10000, 50000, 100000, 500000, 1000000]\n",
    "    com_counts = []\n",
    "    for cutoff in cutoffs:\n",
    "        num_communities = compute_cutoffs(df, cutoff).shape[0]\n",
    "        com_counts.append(num_communities)\n",
    "\n",
    "    plt.plot(np.log10(cutoffs), com_counts, marker='o')\n",
    "    plt.xticks([0, 1, 2, 3, 4, 5, 6], labels = [\"1\", \"10\", \"100\", \"1K\", \"10K\", \"100K\", \"1M\"])\n",
    "    plt.xlabel(\"Number of comments with stance markers (log-scale)\")\n",
    "    plt.ylabel(\"Number of communities\")\n",
    "    plt.title(f\"Number of communities with at least n \\nstance marker posts in {year}\")\n",
    "    plt.show()\n",
    "    plt.clf()\n",
    "    plt.plot(np.log10(cutoffs[-5:]), com_counts[-5:], marker='o')\n",
    "    plt.xticks([4, 5, 6], labels = [\"10K\", \"100K\", \"1M\"])\n",
    "    plt.xlabel(\"Number of comments with stance markers\")\n",
    "    plt.ylabel(\"Number of communities\")\n",
    "    plt.title(f\"Number of communities with at least n \\nstance marker posts {year} (zoomed in)\")\n",
    "    plt.show()\n",
    "    plt.clf()\n",
    "\n",
    "\n",
    "def plot_distinct_markers_per_community(df, year):\n",
    "    community_totals = df.sum(axis=1)\n",
    "    freq_coms = community_totals[community_totals>=10000].index\n",
    "    print(df.shape)\n",
    "    df = df.loc[freq_coms]\n",
    "    print(df.shape)\n",
    "    plt.hist(df.mask(df>0, 1).sum(axis=1))\n",
    "    plt.xlabel(\"Number of Distinct Stancemarkers\")\n",
    "    plt.ylabel(\"Number of Communities\")\n",
    "    plt.title(f\"Number of Communities with n Distinct Stancemarkers ({year})\")\n",
    "    plt.show()\n",
    "    plt.clf()\n"
   ]
  },
  {
   "cell_type": "markdown",
   "metadata": {},
   "source": [
    "# 2019 Analysis"
   ]
  },
  {
   "cell_type": "code",
   "execution_count": 3,
   "metadata": {},
   "outputs": [
    {
     "name": "stdout",
     "output_type": "stream",
     "text": [
      "142158436.0\n"
     ]
    }
   ],
   "source": [
    "year = '2019'\n",
    "df = load_subreddit_marker_data(year)\n",
    "year_df = df\n",
    "year_10k_cutoff = compute_cutoffs(df, 10000)\n"
   ]
  },
  {
   "cell_type": "code",
   "execution_count": 25,
   "metadata": {},
   "outputs": [],
   "source": [
    "frequent_data = year_df[year_df.index.isin(year_10k_cutoff.index)].T\n",
    "marker_distribution_per_community = frequent_data.sort_index()\n",
    "marker_distribution_per_community /= marker_distribution_per_community.sum()\n"
   ]
  },
  {
   "cell_type": "code",
   "execution_count": 2,
   "metadata": {},
   "outputs": [],
   "source": [
    "# Serialization.save_obj(marker_distribution_per_community, \"cogsci_2024_full_data_intensifier_distribution_per_community\")\n",
    "df = Serialization.load_obj(\"cogsci_2024_full_data_intensifier_distribution_per_community\")"
   ]
  },
  {
   "cell_type": "code",
   "execution_count": 12,
   "metadata": {},
   "outputs": [],
   "source": [
    "import sys\n",
    "sys.path.append(\"/u/jai/efficiency/src\")\n",
    "from src.efficiency import *"
   ]
  },
  {
   "cell_type": "code",
   "execution_count": 15,
   "metadata": {},
   "outputs": [],
   "source": [
    "all_communities = df.columns\n",
    "all_communities = list(map(lambda x: x.lower(), all_communities))\n",
    "DATA_SUFFIX = 'luo_data_2019_10k_sample_3_dim'\n",
    "NUM_INTENSIFIERS = df.shape[0]\n",
    "SMOOTHING_DELTA = 1e-10\n",
    "com_to_original_df, com_to_encoder, com_to_needs, marker_to_df = generate_dataframe_mappings(DATA_SUFFIX, NUM_INTENSIFIERS, SMOOTHING_DELTA, exclude_askreddit=True)"
   ]
  },
  {
   "cell_type": "code",
   "execution_count": 17,
   "metadata": {},
   "outputs": [],
   "source": [
    "used_communities = list(com_to_original_df.keys())"
   ]
  },
  {
   "cell_type": "code",
   "execution_count": 20,
   "metadata": {},
   "outputs": [
    {
     "data": {
      "text/plain": [
       "['vita', 'rage']"
      ]
     },
     "execution_count": 20,
     "metadata": {},
     "output_type": "execute_result"
    }
   ],
   "source": [
    "set_difference(used_communities, all_communities)"
   ]
  },
  {
   "cell_type": "code",
   "execution_count": 30,
   "metadata": {},
   "outputs": [],
   "source": [
    "year = \"2019\"\n",
    "marker_counts = Serialization.load_obj(f\"cogsci_2024_all_luo_markers_{year}\")\n",
    "marker_df = pd.DataFrame(marker_counts).fillna(0).T"
   ]
  },
  {
   "cell_type": "code",
   "execution_count": 31,
   "metadata": {},
   "outputs": [],
   "source": [
    "marker_df = marker_df[marker_df.index.isin(df.columns)]"
   ]
  },
  {
   "cell_type": "code",
   "execution_count": 36,
   "metadata": {},
   "outputs": [
    {
     "data": {
      "text/plain": [
       "116446430.0"
      ]
     },
     "execution_count": 36,
     "metadata": {},
     "output_type": "execute_result"
    }
   ],
   "source": [
    "marker_df.sum(axis=1).sort_values().sum()"
   ]
  },
  {
   "cell_type": "code",
   "execution_count": 40,
   "metadata": {},
   "outputs": [],
   "source": [
    "pd.DataFrame(df.columns).to_csv(\"/u/jai/efficiency/data/cogsci_2024_communities.txt\", header=None, index=None)"
   ]
  },
  {
   "cell_type": "markdown",
   "metadata": {},
   "source": [
    "# Temporal Analysis "
   ]
  },
  {
   "cell_type": "code",
   "execution_count": 10,
   "metadata": {},
   "outputs": [],
   "source": [
    "YEARS = [str(year) for year in np.arange(2011, 2021)]"
   ]
  },
  {
   "cell_type": "code",
   "execution_count": 5,
   "metadata": {},
   "outputs": [
    {
     "name": "stdout",
     "output_type": "stream",
     "text": [
      "11512206.0\n",
      "25297859.0\n",
      "39255783.0\n",
      "54155871.0\n",
      "73363891.0\n",
      "88562059.0\n",
      "105979481.0\n",
      "125080359.0\n",
      "142158436.0\n",
      "159045817.0\n"
     ]
    }
   ],
   "source": [
    "year_to_df = {}\n",
    "year_to_10k_cutoff = {}\n",
    "for year in YEARS:\n",
    "    df = load_subreddit_marker_data(year)\n",
    "    # graph_coms_with_markers(df, year)\n",
    "    # plot_distinct_markers_per_community(df, year)\n",
    "    year_to_df[year] = df\n",
    "    year_to_10k_cutoff[year] = compute_cutoffs(df, 10000)\n"
   ]
  },
  {
   "cell_type": "code",
   "execution_count": 6,
   "metadata": {},
   "outputs": [],
   "source": [
    "def community_temporal_overlap(year_to_data, base_year, test_year):\n",
    "    base_data = year_to_data[base_year]\n",
    "    test_data = year_to_data[test_year]\n",
    "\n",
    "    overlapping = intersect_overlap(base_data.index, test_data.index)\n",
    "    return overlapping\n"
   ]
  },
  {
   "cell_type": "code",
   "execution_count": null,
   "metadata": {},
   "outputs": [],
   "source": [
    "year_to_num10k = [year_to_10k_cutoff[year].shape[0] for year in YEARS]\n",
    "year_to_num10k_in_2019 = [len(community_temporal_overlap(year_to_10k_cutoff, \"2019\", year)) for year in YEARS]"
   ]
  },
  {
   "cell_type": "code",
   "execution_count": 13,
   "metadata": {},
   "outputs": [
    {
     "data": {
      "image/png": "[encoded data removed]",
      "text/plain": [
       "<Figure size 432x288 with 1 Axes>"
      ]
     },
     "metadata": {
      "needs_background": "light"
     },
     "output_type": "display_data"
    },
    {
     "data": {
      "text/plain": [
       "<Figure size 432x288 with 0 Axes>"
      ]
     },
     "metadata": {},
     "output_type": "display_data"
    }
   ],
   "source": [
    "plt.plot(YEARS, year_to_num10k, marker='o')\n",
    "plt.plot(YEARS, year_to_num10k_in_2019, marker='x')\n",
    "plt.xlabel(\"Year\")\n",
    "plt.ylabel(\"Number of communities\")\n",
    "plt.title(\"Number of Communities With at Least 10K \\nStance Marker Posts by Year\")\n",
    "plt.show()\n",
    "plt.clf()\n"
   ]
  },
  {
   "cell_type": "code",
   "execution_count": 16,
   "metadata": {},
   "outputs": [
    {
     "name": "stdout",
     "output_type": "stream",
     "text": [
      "2037\n",
      "522\n",
      "462\n"
     ]
    }
   ],
   "source": [
    "overlap_2013 = community_temporal_overlap(year_to_10k_cutoff, \"2019\", \"2013\")\n",
    "with open(\"../data/communities_of_interest.txt\", \"w\") as file:\n",
    "    for c in overlap_2013:\n",
    "        file.write(c)\n",
    "        file.write(\"\\n\")"
   ]
  },
  {
   "cell_type": "code",
   "execution_count": 26,
   "metadata": {},
   "outputs": [],
   "source": [
    "agg_2011 = year_to_10k_cutoff['2011']\n",
    "agg_2012 = year_to_10k_cutoff['2012']\n",
    "agg_2013 = year_to_10k_cutoff['2013']\n",
    "agg_2019 = year_to_10k_cutoff['2019']"
   ]
  },
  {
   "cell_type": "code",
   "execution_count": 5,
   "metadata": {},
   "outputs": [],
   "source": [
    "curr_coms = df.sum(axis=1).sort_values().tail(1000).sample(5, random_state=1234).index"
   ]
  },
  {
   "cell_type": "code",
   "execution_count": 27,
   "metadata": {},
   "outputs": [],
   "source": [
    "def load_text_file(year, communities_of_interest):\n",
    "    files = os.listdir(PROCESSED_DATA_DIR)\n",
    "    valid_files = sorted([file for file in files if str(year) in file])\n",
    "    to_keep_df = []\n",
    "    for filename in tqdm(valid_files):\n",
    "        with open(PROCESSED_DATA_DIR + filename, \"r\") as file:\n",
    "            for line in file:\n",
    "                fline = json.loads(line)\n",
    "                if fline['subreddit'] not in communities_of_interest:\n",
    "                    continue\n",
    "                to_keep_df.append(fline)\n",
    "    return to_keep_df"
   ]
  },
  {
   "cell_type": "code",
   "execution_count": 28,
   "metadata": {},
   "outputs": [
    {
     "name": "stderr",
     "output_type": "stream",
     "text": [
      "100%|██████████| 12/12 [15:44<00:00, 78.68s/it]\n"
     ]
    }
   ],
   "source": [
    "dfs = load_text_file(year, curr_coms)"
   ]
  },
  {
   "cell_type": "code",
   "execution_count": 31,
   "metadata": {},
   "outputs": [],
   "source": []
  },
  {
   "cell_type": "code",
   "execution_count": 34,
   "metadata": {},
   "outputs": [],
   "source": [
    "new_df = pd.DataFrame(dfs)\n",
    "new_df.to_csv(\"/ais/hal9000/datasets/reddit/stance_pipeline/luo_tiny_test/current_data/test_data.csv\")"
   ]
  },
  {
   "cell_type": "code",
   "execution_count": 8,
   "metadata": {},
   "outputs": [
    {
     "name": "stderr",
     "output_type": "stream",
     "text": [
      "/u/jai/miniconda3/envs/venv37/lib/python3.7/site-packages/numpy/lib/arraysetops.py:580: FutureWarning: elementwise comparison failed; returning scalar instead, but in the future will perform elementwise comparison\n",
      "  mask |= (ar1 == a)\n"
     ]
    }
   ],
   "source": [
    "new_df = pd.read_csv(\"/ais/hal9000/datasets/reddit/stance_pipeline/luo_tiny_test/current_data/test_data.csv\", index_col=0)"
   ]
  },
  {
   "cell_type": "code",
   "execution_count": 15,
   "metadata": {},
   "outputs": [
    {
     "name": "stderr",
     "output_type": "stream",
     "text": [
      "100%|██████████| 1190925/1190925 [01:20<00:00, 14877.31it/s]\n"
     ]
    }
   ],
   "source": [
    "luo_intensifiers = set(load_intensifiers(\"luo_intensifiers.txt\"))\n",
    "new_df['rel_marker'] = new_df['body'].progress_apply(lambda x: extract_relevant_markers(x, luo_intensifiers)[0])"
   ]
  },
  {
   "cell_type": "code",
   "execution_count": 17,
   "metadata": {},
   "outputs": [
    {
     "name": "stderr",
     "output_type": "stream",
     "text": [
      "100%|██████████| 1190925/1190925 [00:20<00:00, 59267.54it/s]\n"
     ]
    }
   ],
   "source": [
    "import re\n",
    "new_df['body_mask'] = new_df.progress_apply(lambda x: re.sub(x['rel_marker'], \"[MASK]\", x['body'].lower()), axis=1)"
   ]
  },
  {
   "cell_type": "code",
   "execution_count": 18,
   "metadata": {},
   "outputs": [],
   "source": [
    "new_df.to_csv(\"/ais/hal9000/datasets/reddit/stance_pipeline/luo_tiny_test/current_data/test_data.csv\")"
   ]
  }
 ],
 "metadata": {
  "kernelspec": {
   "display_name": "venv37",
   "language": "python",
   "name": "python3"
  },
  "language_info": {
   "codemirror_mode": {
    "name": "ipython",
    "version": 3
   },
   "file_extension": ".py",
   "mimetype": "text/x-python",
   "name": "python",
   "nbconvert_exporter": "python",
   "pygments_lexer": "ipython3",
   "version": "3.7.9"
  },
  "orig_nbformat": 4
 },
 "nbformat": 4,
 "nbformat_minor": 2
}
